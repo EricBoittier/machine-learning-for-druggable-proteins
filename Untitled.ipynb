{
 "cells": [
  {
   "cell_type": "code",
   "execution_count": 24,
   "metadata": {},
   "outputs": [
    {
     "name": "stdout",
     "output_type": "stream",
     "text": [
      "['WAA', \" 'NRA\", \" 'INA\", \" 'KCA\", \" 'EEA\", \" 'YEA\", \" 'AQA\", \" 'YIA\", \" 'HLA\", \" 'IMA\", \" 'MMA\", \" 'DSA\", \" 'CSA\", \" 'QTA\", \" 'VYA\", \" 'KNR\", \" 'TER\", \" 'PQR\", \" 'EHR\", \" 'VSR\", \" 'MDN\", \" 'DQN\", \" 'LHN\", \" 'YIN\", \" 'RSN\", \" 'FWN\", \" 'HDD\", \" 'ACD\", \" 'SCD\", \" 'MED\", \" 'RGD\", \" 'SHD\", \" 'WLD\", \" 'VLD\", \" 'VFD\", \" 'WPD\", \" 'LTD\", \" 'DWD\", \" 'QWD\", \" 'YWD\", \" 'VYD\", \" 'WRC\", \" 'NDC\", \" 'IHC\", \" 'WHC\", \" 'VHC\", \" 'EMC\", \" 'FWC\", \" 'SDE\", \" 'NHE\", \" 'HME\", \" 'TSE\", \" 'EYE\", \" 'QYE\", \" 'GVE\", \" 'ENQ\", \" 'INQ\", \" 'NDQ\", \" 'WEQ\", \" 'RQQ\", \" 'KQQ\", \" 'NGQ\", \" 'CHQ\", \" 'HLQ\", \" 'GPQ\", \" 'YSQ\", \" 'QYQ\", \" 'RVQ\", \" 'QRG\", \" 'GGG\", \" 'HGG\", \" 'KGG\", \" 'DHG\", \" 'GIG\", \" 'SFG\", \" 'SSG\", \" 'RTG\", \" 'PTG\", \" 'AWG\", \" 'IVG\", \" 'CDH\", \" 'PDH\", \" 'YDH\", \" 'DGH\", \" 'KHH\", \" 'QFH\", \" 'KPH\", \" 'FWH\", \" 'LVH\", \" 'PAI\", \" 'WRI\", \" 'QNI\", \" 'WEI\", \" 'WQI\", \" 'NII\", \" 'PMI\", \" 'SPI\", \" 'ESI\", \" 'QTI\", \" 'GTI\", \" 'AYI\", \" 'PDL\", \" 'EKL\", \" 'IKL\", \" 'DPL\", \" 'GPL\", \" 'ESL\", \" 'DVL\", \" 'MVL\", \" 'YVL\", \" 'VVL\", \" 'HNK\", \" 'AEK\", \" 'QLK\", \" 'SMK\", \" 'FFK\", \" 'TYK\", \" 'WRM\", \" 'WNM\", \" 'CDM\", \" 'REM\", \" 'FEM\", \" 'WQM\", \" 'SHM\", \" 'LLM\", \" 'SMM\", \" 'RWM\", \" 'GYM\", \" 'HVM\", \" 'IVM\", \" 'LDF\", \" 'YQF\", \" 'VGF\", \" 'AIF\", \" 'YKF\", \" 'MMF\", \" 'AFF\", \" 'CFF\", \" 'FWF\", \" 'TYF\", \" 'FAP\", \" 'FNP\", \" 'QGP\", \" 'VHP\", \" 'PIP\", \" 'PLP\", \" 'HKP\", \" 'RSP\", \" 'ETP\", \" 'KWP\", \" 'YWP\", \" 'LYP\", \" 'SRS\", \" 'CDS\", \" 'HDS\", \" 'HCS\", \" 'LES\", \" 'WGS\", \" 'DHS\", \" 'SHS\", \" 'PSS\", \" 'QAT\", \" 'DRT\", \" 'GRT\", \" 'RNT\", \" 'INT\", \" 'PET\", \" 'VQT\", \" 'NLT\", \" 'DLT\", \" 'WLT\", \" 'KKT\", \" 'QWT\", \" 'FYT\", \" 'CRW\", \" 'RCW\", \" 'KCW\", \" 'GEW\", \" 'RGW\", \" 'VGW\", \" 'DIW\", \" 'GKW\", \" 'DFW\", \" 'NRY\", \" 'TRY\", \" 'YRY\", \" 'TGY\", \" 'LMY\", \" 'AFY\", \" 'YAV\", \" 'SRV\", \" 'ENV\", \" 'HNV\", \" 'QGV\", \" 'TGV\", \" 'WHV\", \" 'LLV\", \" 'IMV\", \" 'HSV\", \" 'HTV\"]\n"
     ]
    }
   ],
   "source": [
    "    \n",
    "import pandas as pd\n",
    "import numpy as np\n",
    "\n",
    "header = open(\"example_header.csv\", \"r\").readlines()[0].split(\",\")\n",
    "header = [x.strip(\"'\") for x in header]\n",
    "print(header)"
   ]
  },
  {
   "cell_type": "code",
   "execution_count": 21,
   "metadata": {},
   "outputs": [],
   "source": [
    "cdca3 = \"\"\"MGSAKSVPVTPARPPPHNKHLARVADPRSPSAGILRTPIQVESSPQPGLPAGEQLEGLKH\n",
    "AQDSDPRSPTLGIARTPMKTSSGDPPSPLVKQLSEVFETEDSKSNLPPEPVLPPEAPLSS\n",
    "ELDLPLGTQLSVEEQMPPWNQTEFPSKQVFSKEEARQPTETPVASQSSDKPSRDPETPRS\n",
    "SGSMRNRWKPNSSKVLGRSPLTILQDDNSPGTLTLRQGKRPSPLSENVSELKEGAILGTG\n",
    "RLLKTGGRAWEQGQDHDKENQHFPLVES\"\"\"\n",
    "\n",
    "counts = []\n",
    "\n",
    "for x in header:\n",
    "    count = cdca3.count(x)\n",
    "    counts.append(count)\n",
    "\n",
    "fractions = [c/sum(counts) for c in counts]\n",
    "\n",
    "\n",
    "df = pd.DataFrame(np.array([fractions]), columns=header)\n",
    "\n",
    "df.to_csv(\"cdca3.csv\")\n",
    "    "
   ]
  },
  {
   "cell_type": "code",
   "execution_count": null,
   "metadata": {},
   "outputs": [],
   "source": []
  }
 ],
 "metadata": {
  "kernelspec": {
   "display_name": "Python 3",
   "language": "python",
   "name": "python3"
  },
  "language_info": {
   "codemirror_mode": {
    "name": "ipython",
    "version": 3
   },
   "file_extension": ".py",
   "mimetype": "text/x-python",
   "name": "python",
   "nbconvert_exporter": "python",
   "pygments_lexer": "ipython3",
   "version": "3.7.3"
  }
 },
 "nbformat": 4,
 "nbformat_minor": 4
}
